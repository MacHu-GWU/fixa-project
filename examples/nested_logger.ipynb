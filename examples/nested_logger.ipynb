{
 "cells": [
  {
   "cell_type": "markdown",
   "source": [
    "# Nested Logger\n"
   ],
   "metadata": {
    "collapsed": false,
    "pycharm": {
     "name": "#%% md\n"
    }
   }
  },
  {
   "cell_type": "code",
   "execution_count": 1,
   "outputs": [],
   "source": [
    "import json\n",
    "import time\n",
    "from fixa.nest_logger import NestedLogger, AlignEnum\n",
    "\n",
    "logger = NestedLogger(name=\"nested_logger_demo\")"
   ],
   "metadata": {
    "collapsed": false,
    "pycharm": {
     "name": "#%%\n"
    }
   }
  },
  {
   "cell_type": "markdown",
   "source": [
    "The basic logging"
   ],
   "metadata": {
    "collapsed": false,
    "pycharm": {
     "name": "#%% md\n"
    }
   }
  },
  {
   "cell_type": "code",
   "execution_count": 2,
   "outputs": [
    {
     "name": "stdout",
     "output_type": "stream",
     "text": [
      "[User 2023-02-06 19:02:20] | hello\n"
     ]
    }
   ],
   "source": [
    "logger.info(\"hello\");"
   ],
   "metadata": {
    "collapsed": false,
    "pycharm": {
     "name": "#%%\n"
    }
   }
  },
  {
   "cell_type": "markdown",
   "source": [
    "Change the vertical pipe character"
   ],
   "metadata": {
    "collapsed": false,
    "pycharm": {
     "name": "#%% md\n"
    }
   }
  },
  {
   "cell_type": "code",
   "execution_count": 3,
   "outputs": [
    {
     "name": "stdout",
     "output_type": "stream",
     "text": [
      "[User 2023-02-06 19:02:20] + hello\n"
     ]
    }
   ],
   "source": [
    "logger.info(\"hello\", pipe=\"+\");"
   ],
   "metadata": {
    "collapsed": false,
    "pycharm": {
     "name": "#%%\n"
    }
   }
  },
  {
   "cell_type": "markdown",
   "source": [
    "Horizontal ruler, by default it is left aligned"
   ],
   "metadata": {
    "collapsed": false,
    "pycharm": {
     "name": "#%% md\n"
    }
   }
  },
  {
   "cell_type": "code",
   "execution_count": 4,
   "outputs": [
    {
     "name": "stdout",
     "output_type": "stream",
     "text": [
      "[User 2023-02-06 19:02:20] +----- start ------------------------------------------------------------------+\n"
     ]
    }
   ],
   "source": [
    "logger.ruler(\"start\");"
   ],
   "metadata": {
    "collapsed": false,
    "pycharm": {
     "name": "#%%\n"
    }
   }
  },
  {
   "cell_type": "markdown",
   "source": [
    "Ruler can be center aligned"
   ],
   "metadata": {
    "collapsed": false,
    "pycharm": {
     "name": "#%% md\n"
    }
   }
  },
  {
   "cell_type": "code",
   "execution_count": 5,
   "outputs": [
    {
     "name": "stdout",
     "output_type": "stream",
     "text": [
      "[User 2023-02-06 19:02:21] +----------------------------------- start ------------------------------------+\n"
     ]
    }
   ],
   "source": [
    "logger.ruler(\"start\", align=AlignEnum.middle);"
   ],
   "metadata": {
    "collapsed": false,
    "pycharm": {
     "name": "#%%\n"
    }
   }
  },
  {
   "cell_type": "markdown",
   "source": [
    "Ruler can be right aligned"
   ],
   "metadata": {
    "collapsed": false,
    "pycharm": {
     "name": "#%% md\n"
    }
   }
  },
  {
   "cell_type": "code",
   "execution_count": 6,
   "outputs": [
    {
     "name": "stdout",
     "output_type": "stream",
     "text": [
      "[User 2023-02-06 19:02:21] +------------------------------------------------------------------ start -----+\n"
     ]
    }
   ],
   "source": [
    "logger.ruler(\"start\", align=AlignEnum.right);"
   ],
   "metadata": {
    "collapsed": false,
    "pycharm": {
     "name": "#%%\n"
    }
   }
  },
  {
   "cell_type": "markdown",
   "source": [
    "Ruler has many option, you can customize the ruler character."
   ],
   "metadata": {
    "collapsed": false,
    "pycharm": {
     "name": "#%% md\n"
    }
   }
  },
  {
   "cell_type": "code",
   "execution_count": 7,
   "outputs": [
    {
     "name": "stdout",
     "output_type": "stream",
     "text": [
      "[User 2023-02-06 19:02:21] +===== start ==================================================================+\n"
     ]
    }
   ],
   "source": [
    "logger.ruler(\"start\", char=\"=\");"
   ],
   "metadata": {
    "collapsed": false,
    "pycharm": {
     "name": "#%%\n"
    }
   }
  },
  {
   "cell_type": "markdown",
   "source": [
    "You can customize corner character too."
   ],
   "metadata": {
    "collapsed": false,
    "pycharm": {
     "name": "#%% md\n"
    }
   }
  },
  {
   "cell_type": "code",
   "execution_count": 8,
   "outputs": [
    {
     "name": "stdout",
     "output_type": "stream",
     "text": [
      "[User 2023-02-06 19:02:22] #----- start ------------------------------------------------------------------#\n"
     ]
    }
   ],
   "source": [
    "logger.ruler(\"start\", corner=\"#\");"
   ],
   "metadata": {
    "collapsed": false,
    "pycharm": {
     "name": "#%%\n"
    }
   }
  },
  {
   "cell_type": "markdown",
   "source": [
    "If the log message across multiple lines, it still looks nice."
   ],
   "metadata": {
    "collapsed": false,
    "pycharm": {
     "name": "#%% md\n"
    }
   }
  },
  {
   "cell_type": "code",
   "execution_count": 9,
   "outputs": [
    {
     "name": "stdout",
     "output_type": "stream",
     "text": [
      "[User 2023-02-06 19:02:22] | {\n",
      "[User 2023-02-06 19:02:22] |     \"a\": {\n",
      "[User 2023-02-06 19:02:22] |         \"b\": {\n",
      "[User 2023-02-06 19:02:22] |             \"c\": 3\n",
      "[User 2023-02-06 19:02:22] |         }\n",
      "[User 2023-02-06 19:02:22] |     }\n",
      "[User 2023-02-06 19:02:22] | }\n"
     ]
    }
   ],
   "source": [
    "data = {\n",
    "    \"a\": {\n",
    "        \"b\": {\n",
    "            \"c\": 3\n",
    "        }\n",
    "    }\n",
    "}\n",
    "logger.info(json.dumps(data, indent=4));"
   ],
   "metadata": {
    "collapsed": false,
    "pycharm": {
     "name": "#%%\n"
    }
   }
  },
  {
   "cell_type": "markdown",
   "source": [
    "You can put logic blocks nesting each other to improve readability."
   ],
   "metadata": {
    "collapsed": false,
    "pycharm": {
     "name": "#%% md\n"
    }
   }
  },
  {
   "cell_type": "code",
   "execution_count": 10,
   "outputs": [
    {
     "name": "stdout",
     "output_type": "stream",
     "text": [
      "[User 2023-02-06 19:02:22] +----- section 1 --------------------------------------------------------------+\n",
      "[User 2023-02-06 19:02:22] | hello 1\n",
      "[User 2023-02-06 19:02:22] | +----- section 1.1 ----------------------------------------------------------+\n",
      "[User 2023-02-06 19:02:22] | | hello 1.1\n",
      "[User 2023-02-06 19:02:22] | | +----- section 1.1.1 ------------------------------------------------------+\n",
      "[User 2023-02-06 19:02:22] | | | hello 1.1.1\n",
      "[User 2023-02-06 19:02:22] | | +----- section 1.1.1 ------------------------------------------------------+\n",
      "[User 2023-02-06 19:02:22] | +----- section 1.1 ----------------------------------------------------------+\n",
      "[User 2023-02-06 19:02:22] +----- section 1 --------------------------------------------------------------+\n"
     ]
    }
   ],
   "source": [
    "logger.ruler(\"section 1\")\n",
    "logger.info(\"hello 1\")\n",
    "with logger.nested():\n",
    "    logger.ruler(\"section 1.1\")\n",
    "    logger.info(\"hello 1.1\")\n",
    "    with logger.nested():\n",
    "        logger.ruler(\"section 1.1.1\")\n",
    "        logger.info(\"hello 1.1.1\")\n",
    "        logger.ruler(\"section 1.1.1\")\n",
    "    logger.ruler(\"section 1.1\")\n",
    "logger.ruler(\"section 1\");"
   ],
   "metadata": {
    "collapsed": false,
    "pycharm": {
     "name": "#%%\n"
    }
   }
  },
  {
   "cell_type": "markdown",
   "source": [
    "You can use pretty log decorator to wrap a function to provide this visual effect easily."
   ],
   "metadata": {
    "collapsed": false,
    "pycharm": {
     "name": "#%% md\n"
    }
   }
  },
  {
   "cell_type": "code",
   "execution_count": 11,
   "outputs": [
    {
     "name": "stdout",
     "output_type": "stream",
     "text": [
      "[User 2023-02-06 19:02:23] +----- Start func1() ----------------------------------------------------------+\n",
      "[User 2023-02-06 19:02:23] | \n",
      "[User 2023-02-06 19:02:24] | run func1\n",
      "[User 2023-02-06 19:02:24] | \n",
      "[User 2023-02-06 19:02:24] +----- End func1(), elapsed = 1.01 sec ----------------------------------------+\n"
     ]
    }
   ],
   "source": [
    "@logger.pretty_log()\n",
    "def func1():\n",
    "    time.sleep(1)\n",
    "    logger.info(\"run func1\")\n",
    "\n",
    "func1()"
   ],
   "metadata": {
    "collapsed": false,
    "pycharm": {
     "name": "#%%\n"
    }
   }
  },
  {
   "cell_type": "markdown",
   "source": [
    "Function can be nesting each other too!"
   ],
   "metadata": {
    "collapsed": false,
    "pycharm": {
     "name": "#%% md\n"
    }
   }
  },
  {
   "cell_type": "code",
   "execution_count": 12,
   "outputs": [
    {
     "name": "stdout",
     "output_type": "stream",
     "text": [
      "[User 2023-02-06 19:02:24] +----- Start func3() ----------------------------------------------------------+\n",
      "[User 2023-02-06 19:02:24] | \n",
      "[User 2023-02-06 19:02:25] | run func3\n",
      "[User 2023-02-06 19:02:25] | +----- Start func2() --------------------------------------------------------+\n",
      "[User 2023-02-06 19:02:25] | | \n",
      "[User 2023-02-06 19:02:26] | | run func2\n",
      "[User 2023-02-06 19:02:26] | | \n",
      "[User 2023-02-06 19:02:26] | +----- End func2(), elapsed = 1.01 sec --------------------------------------+\n",
      "[User 2023-02-06 19:02:26] | \n",
      "[User 2023-02-06 19:02:26] +----- End func3(), elapsed = 2.02 sec ----------------------------------------+\n"
     ]
    }
   ],
   "source": [
    "@logger.pretty_log()\n",
    "def func2():\n",
    "    time.sleep(1)\n",
    "    logger.info(\"run func2\")\n",
    "\n",
    "@logger.pretty_log()\n",
    "def func3():\n",
    "    time.sleep(1)\n",
    "    logger.info(\"run func3\")\n",
    "    with logger.nested():\n",
    "        func2()\n",
    "\n",
    "func3()"
   ],
   "metadata": {
    "collapsed": false,
    "pycharm": {
     "name": "#%%\n"
    }
   }
  },
  {
   "cell_type": "markdown",
   "source": [
    "You can customize the pipe character to create a semantic visual effect."
   ],
   "metadata": {
    "collapsed": false,
    "pycharm": {
     "name": "#%% md\n"
    }
   }
  },
  {
   "cell_type": "code",
   "execution_count": 13,
   "outputs": [
    {
     "name": "stdout",
     "output_type": "stream",
     "text": [
      "[User 2023-02-06 19:02:26] +----- Start run_deploy() -----------------------------------------------------+\n",
      "[User 2023-02-06 19:02:26] 🚀 \n",
      "[User 2023-02-06 19:02:27] 🚀 run deploy\n",
      "[User 2023-02-06 19:02:27] 🚀 +----- Start run_test() -----------------------------------------------------+\n",
      "[User 2023-02-06 19:02:27] 🚀 🧪 \n",
      "[User 2023-02-06 19:02:28] 🚀 🧪 run test\n",
      "[User 2023-02-06 19:02:28] 🚀 🧪 +----- Start run_build() --------------------------------------------------+\n",
      "[User 2023-02-06 19:02:28] 🚀 🧪 🏭 \n",
      "[User 2023-02-06 19:02:29] 🚀 🧪 🏭 run build\n",
      "[User 2023-02-06 19:02:29] 🚀 🧪 🏭 \n",
      "[User 2023-02-06 19:02:29] 🚀 🧪 +----- End run_build(), elapsed = 1.01 sec --------------------------------+\n",
      "[User 2023-02-06 19:02:29] 🚀 🧪 \n",
      "[User 2023-02-06 19:02:29] 🚀 +----- End run_test(), elapsed = 2.02 sec -----------------------------------+\n",
      "[User 2023-02-06 19:02:29] 🚀 \n",
      "[User 2023-02-06 19:02:29] +----- End run_deploy(), elapsed = 3.03 sec -----------------------------------+\n"
     ]
    }
   ],
   "source": [
    "@logger.pretty_log(pipe=\"🏭\")\n",
    "def run_build():\n",
    "    time.sleep(1)\n",
    "    logger.info(\"run build\")\n",
    "\n",
    "@logger.pretty_log(pipe=\"🧪\")\n",
    "def run_test():\n",
    "    time.sleep(1)\n",
    "    logger.info(\"run test\")\n",
    "    with logger.nested():\n",
    "        run_build()\n",
    "\n",
    "@logger.pretty_log(pipe=\"🚀\")\n",
    "def run_deploy():\n",
    "    time.sleep(1)\n",
    "    logger.info(\"run deploy\")\n",
    "    with logger.nested():\n",
    "        run_test()\n",
    "\n",
    "run_deploy()"
   ],
   "metadata": {
    "collapsed": false,
    "pycharm": {
     "name": "#%%\n"
    }
   }
  },
  {
   "cell_type": "markdown",
   "source": [],
   "metadata": {
    "collapsed": false,
    "pycharm": {
     "name": "#%% md\n"
    }
   }
  }
 ],
 "metadata": {
  "kernelspec": {
   "display_name": "Python 3",
   "language": "python",
   "name": "python3"
  },
  "language_info": {
   "codemirror_mode": {
    "name": "ipython",
    "version": 2
   },
   "file_extension": ".py",
   "mimetype": "text/x-python",
   "name": "python",
   "nbconvert_exporter": "python",
   "pygments_lexer": "ipython2",
   "version": "2.7.6"
  }
 },
 "nbformat": 4,
 "nbformat_minor": 0
}