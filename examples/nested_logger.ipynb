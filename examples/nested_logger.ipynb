{
 "cells": [
  {
   "cell_type": "markdown",
   "metadata": {
    "collapsed": false,
    "jupyter": {
     "outputs_hidden": false
    },
    "pycharm": {
     "name": "#%% md\n"
    }
   },
   "source": [
    "# Nested Logger\n",
    "\n",
    "Nested logger brings visual effect to the standard logging. It is useful for logging in a function with multiple nested blocks. It can help you to understand the execution flow of the program.\n"
   ]
  },
  {
   "cell_type": "code",
   "execution_count": 1,
   "metadata": {
    "collapsed": false,
    "jupyter": {
     "outputs_hidden": false
    },
    "pycharm": {
     "name": "#%%\n"
    }
   },
   "outputs": [],
   "source": [
    "import json\n",
    "import time\n",
    "from fixa.nest_logger import NestedLogger, AlignEnum\n",
    "\n",
    "logger = NestedLogger(name=\"nested_logger_demo\")"
   ]
  },
  {
   "cell_type": "markdown",
   "metadata": {
    "collapsed": false,
    "jupyter": {
     "outputs_hidden": false
    },
    "pycharm": {
     "name": "#%% md\n"
    }
   },
   "source": [
    "The basic logging"
   ]
  },
  {
   "cell_type": "code",
   "execution_count": 2,
   "metadata": {
    "collapsed": false,
    "jupyter": {
     "outputs_hidden": false
    },
    "pycharm": {
     "name": "#%%\n"
    }
   },
   "outputs": [
    {
     "name": "stdout",
     "output_type": "stream",
     "text": [
      "[User 2023-02-06 19:02:20] | hello\n"
     ]
    }
   ],
   "source": [
    "logger.info(\"hello\");"
   ]
  },
  {
   "cell_type": "markdown",
   "metadata": {
    "collapsed": false,
    "jupyter": {
     "outputs_hidden": false
    },
    "pycharm": {
     "name": "#%% md\n"
    }
   },
   "source": [
    "Change the vertical pipe character"
   ]
  },
  {
   "cell_type": "code",
   "execution_count": 3,
   "metadata": {
    "collapsed": false,
    "jupyter": {
     "outputs_hidden": false
    },
    "pycharm": {
     "name": "#%%\n"
    }
   },
   "outputs": [
    {
     "name": "stdout",
     "output_type": "stream",
     "text": [
      "[User 2023-02-06 19:02:20] + hello\n"
     ]
    }
   ],
   "source": [
    "logger.info(\"hello\", pipe=\"+\");"
   ]
  },
  {
   "cell_type": "markdown",
   "metadata": {
    "collapsed": false,
    "jupyter": {
     "outputs_hidden": false
    },
    "pycharm": {
     "name": "#%% md\n"
    }
   },
   "source": [
    "Horizontal ruler, by default it is left aligned"
   ]
  },
  {
   "cell_type": "code",
   "execution_count": 4,
   "metadata": {
    "collapsed": false,
    "jupyter": {
     "outputs_hidden": false
    },
    "pycharm": {
     "name": "#%%\n"
    }
   },
   "outputs": [
    {
     "name": "stdout",
     "output_type": "stream",
     "text": [
      "[User 2023-02-06 19:02:20] +----- start ------------------------------------------------------------------+\n"
     ]
    }
   ],
   "source": [
    "logger.ruler(\"start\");"
   ]
  },
  {
   "cell_type": "markdown",
   "metadata": {
    "collapsed": false,
    "jupyter": {
     "outputs_hidden": false
    },
    "pycharm": {
     "name": "#%% md\n"
    }
   },
   "source": [
    "Ruler can be center aligned"
   ]
  },
  {
   "cell_type": "code",
   "execution_count": 5,
   "metadata": {
    "collapsed": false,
    "jupyter": {
     "outputs_hidden": false
    },
    "pycharm": {
     "name": "#%%\n"
    }
   },
   "outputs": [
    {
     "name": "stdout",
     "output_type": "stream",
     "text": [
      "[User 2023-02-06 19:02:21] +----------------------------------- start ------------------------------------+\n"
     ]
    }
   ],
   "source": [
    "logger.ruler(\"start\", align=AlignEnum.middle);"
   ]
  },
  {
   "cell_type": "markdown",
   "metadata": {
    "collapsed": false,
    "jupyter": {
     "outputs_hidden": false
    },
    "pycharm": {
     "name": "#%% md\n"
    }
   },
   "source": [
    "Ruler can be right aligned"
   ]
  },
  {
   "cell_type": "code",
   "execution_count": 6,
   "metadata": {
    "collapsed": false,
    "jupyter": {
     "outputs_hidden": false
    },
    "pycharm": {
     "name": "#%%\n"
    }
   },
   "outputs": [
    {
     "name": "stdout",
     "output_type": "stream",
     "text": [
      "[User 2023-02-06 19:02:21] +------------------------------------------------------------------ start -----+\n"
     ]
    }
   ],
   "source": [
    "logger.ruler(\"start\", align=AlignEnum.right);"
   ]
  },
  {
   "cell_type": "markdown",
   "metadata": {
    "collapsed": false,
    "jupyter": {
     "outputs_hidden": false
    },
    "pycharm": {
     "name": "#%% md\n"
    }
   },
   "source": [
    "Ruler has many option, you can customize the ruler character."
   ]
  },
  {
   "cell_type": "code",
   "execution_count": 7,
   "metadata": {
    "collapsed": false,
    "jupyter": {
     "outputs_hidden": false
    },
    "pycharm": {
     "name": "#%%\n"
    }
   },
   "outputs": [
    {
     "name": "stdout",
     "output_type": "stream",
     "text": [
      "[User 2023-02-06 19:02:21] +===== start ==================================================================+\n"
     ]
    }
   ],
   "source": [
    "logger.ruler(\"start\", char=\"=\");"
   ]
  },
  {
   "cell_type": "markdown",
   "metadata": {
    "collapsed": false,
    "jupyter": {
     "outputs_hidden": false
    },
    "pycharm": {
     "name": "#%% md\n"
    }
   },
   "source": [
    "You can customize corner character too."
   ]
  },
  {
   "cell_type": "code",
   "execution_count": 8,
   "metadata": {
    "collapsed": false,
    "jupyter": {
     "outputs_hidden": false
    },
    "pycharm": {
     "name": "#%%\n"
    }
   },
   "outputs": [
    {
     "name": "stdout",
     "output_type": "stream",
     "text": [
      "[User 2023-02-06 19:02:22] #----- start ------------------------------------------------------------------#\n"
     ]
    }
   ],
   "source": [
    "logger.ruler(\"start\", corner=\"#\");"
   ]
  },
  {
   "cell_type": "markdown",
   "metadata": {
    "collapsed": false,
    "jupyter": {
     "outputs_hidden": false
    },
    "pycharm": {
     "name": "#%% md\n"
    }
   },
   "source": [
    "If the log message across multiple lines, it still looks nice."
   ]
  },
  {
   "cell_type": "code",
   "execution_count": 9,
   "metadata": {
    "collapsed": false,
    "jupyter": {
     "outputs_hidden": false
    },
    "pycharm": {
     "name": "#%%\n"
    }
   },
   "outputs": [
    {
     "name": "stdout",
     "output_type": "stream",
     "text": [
      "[User 2023-02-06 19:02:22] | {\n",
      "[User 2023-02-06 19:02:22] |     \"a\": {\n",
      "[User 2023-02-06 19:02:22] |         \"b\": {\n",
      "[User 2023-02-06 19:02:22] |             \"c\": 3\n",
      "[User 2023-02-06 19:02:22] |         }\n",
      "[User 2023-02-06 19:02:22] |     }\n",
      "[User 2023-02-06 19:02:22] | }\n"
     ]
    }
   ],
   "source": [
    "data = {\n",
    "    \"a\": {\n",
    "        \"b\": {\n",
    "            \"c\": 3\n",
    "        }\n",
    "    }\n",
    "}\n",
    "logger.info(json.dumps(data, indent=4));"
   ]
  },
  {
   "cell_type": "markdown",
   "metadata": {
    "collapsed": false,
    "jupyter": {
     "outputs_hidden": false
    },
    "pycharm": {
     "name": "#%% md\n"
    }
   },
   "source": [
    "You can put logic blocks nesting each other to improve readability."
   ]
  },
  {
   "cell_type": "code",
   "execution_count": 10,
   "metadata": {
    "collapsed": false,
    "jupyter": {
     "outputs_hidden": false
    },
    "pycharm": {
     "name": "#%%\n"
    }
   },
   "outputs": [
    {
     "name": "stdout",
     "output_type": "stream",
     "text": [
      "[User 2023-02-06 19:02:22] +----- section 1 --------------------------------------------------------------+\n",
      "[User 2023-02-06 19:02:22] | hello 1\n",
      "[User 2023-02-06 19:02:22] | +----- section 1.1 ----------------------------------------------------------+\n",
      "[User 2023-02-06 19:02:22] | | hello 1.1\n",
      "[User 2023-02-06 19:02:22] | | +----- section 1.1.1 ------------------------------------------------------+\n",
      "[User 2023-02-06 19:02:22] | | | hello 1.1.1\n",
      "[User 2023-02-06 19:02:22] | | +----- section 1.1.1 ------------------------------------------------------+\n",
      "[User 2023-02-06 19:02:22] | +----- section 1.1 ----------------------------------------------------------+\n",
      "[User 2023-02-06 19:02:22] +----- section 1 --------------------------------------------------------------+\n"
     ]
    }
   ],
   "source": [
    "logger.ruler(\"section 1\")\n",
    "logger.info(\"hello 1\")\n",
    "with logger.nested():\n",
    "    logger.ruler(\"section 1.1\")\n",
    "    logger.info(\"hello 1.1\")\n",
    "    with logger.nested():\n",
    "        logger.ruler(\"section 1.1.1\")\n",
    "        logger.info(\"hello 1.1.1\")\n",
    "        logger.ruler(\"section 1.1.1\")\n",
    "    logger.ruler(\"section 1.1\")\n",
    "logger.ruler(\"section 1\");"
   ]
  },
  {
   "cell_type": "markdown",
   "metadata": {
    "collapsed": false,
    "jupyter": {
     "outputs_hidden": false
    },
    "pycharm": {
     "name": "#%% md\n"
    }
   },
   "source": [
    "You can use pretty log decorator to wrap a function to provide this visual effect easily."
   ]
  },
  {
   "cell_type": "code",
   "execution_count": 11,
   "metadata": {
    "collapsed": false,
    "jupyter": {
     "outputs_hidden": false
    },
    "pycharm": {
     "name": "#%%\n"
    }
   },
   "outputs": [
    {
     "name": "stdout",
     "output_type": "stream",
     "text": [
      "[User 2023-02-06 19:02:23] +----- Start func1() ----------------------------------------------------------+\n",
      "[User 2023-02-06 19:02:23] | \n",
      "[User 2023-02-06 19:02:24] | run func1\n",
      "[User 2023-02-06 19:02:24] | \n",
      "[User 2023-02-06 19:02:24] +----- End func1(), elapsed = 1.01 sec ----------------------------------------+\n"
     ]
    }
   ],
   "source": [
    "@logger.pretty_log()\n",
    "def func1():\n",
    "    time.sleep(1)\n",
    "    logger.info(\"run func1\")\n",
    "\n",
    "func1()"
   ]
  },
  {
   "cell_type": "markdown",
   "metadata": {
    "collapsed": false,
    "jupyter": {
     "outputs_hidden": false
    },
    "pycharm": {
     "name": "#%% md\n"
    }
   },
   "source": [
    "Function can be nesting each other too!"
   ]
  },
  {
   "cell_type": "code",
   "execution_count": 12,
   "metadata": {
    "collapsed": false,
    "jupyter": {
     "outputs_hidden": false
    },
    "pycharm": {
     "name": "#%%\n"
    }
   },
   "outputs": [
    {
     "name": "stdout",
     "output_type": "stream",
     "text": [
      "[User 2023-02-06 19:02:24] +----- Start func3() ----------------------------------------------------------+\n",
      "[User 2023-02-06 19:02:24] | \n",
      "[User 2023-02-06 19:02:25] | run func3\n",
      "[User 2023-02-06 19:02:25] | +----- Start func2() --------------------------------------------------------+\n",
      "[User 2023-02-06 19:02:25] | | \n",
      "[User 2023-02-06 19:02:26] | | run func2\n",
      "[User 2023-02-06 19:02:26] | | \n",
      "[User 2023-02-06 19:02:26] | +----- End func2(), elapsed = 1.01 sec --------------------------------------+\n",
      "[User 2023-02-06 19:02:26] | \n",
      "[User 2023-02-06 19:02:26] +----- End func3(), elapsed = 2.02 sec ----------------------------------------+\n"
     ]
    }
   ],
   "source": [
    "@logger.pretty_log()\n",
    "def func2():\n",
    "    time.sleep(1)\n",
    "    logger.info(\"run func2\")\n",
    "\n",
    "@logger.pretty_log()\n",
    "def func3():\n",
    "    time.sleep(1)\n",
    "    logger.info(\"run func3\")\n",
    "    with logger.nested():\n",
    "        func2()\n",
    "\n",
    "func3()"
   ]
  },
  {
   "cell_type": "markdown",
   "metadata": {
    "collapsed": false,
    "jupyter": {
     "outputs_hidden": false
    },
    "pycharm": {
     "name": "#%% md\n"
    }
   },
   "source": [
    "You can customize the pipe character to create a semantic visual effect."
   ]
  },
  {
   "cell_type": "code",
   "execution_count": 13,
   "metadata": {
    "collapsed": false,
    "jupyter": {
     "outputs_hidden": false
    },
    "pycharm": {
     "name": "#%%\n"
    }
   },
   "outputs": [
    {
     "name": "stdout",
     "output_type": "stream",
     "text": [
      "[User 2023-02-06 19:02:26] +----- Start run_deploy() -----------------------------------------------------+\n",
      "[User 2023-02-06 19:02:26] 🚀 \n",
      "[User 2023-02-06 19:02:27] 🚀 run deploy\n",
      "[User 2023-02-06 19:02:27] 🚀 +----- Start run_test() -----------------------------------------------------+\n",
      "[User 2023-02-06 19:02:27] 🚀 🧪 \n",
      "[User 2023-02-06 19:02:28] 🚀 🧪 run test\n",
      "[User 2023-02-06 19:02:28] 🚀 🧪 +----- Start run_build() --------------------------------------------------+\n",
      "[User 2023-02-06 19:02:28] 🚀 🧪 🏭 \n",
      "[User 2023-02-06 19:02:29] 🚀 🧪 🏭 run build\n",
      "[User 2023-02-06 19:02:29] 🚀 🧪 🏭 \n",
      "[User 2023-02-06 19:02:29] 🚀 🧪 +----- End run_build(), elapsed = 1.01 sec --------------------------------+\n",
      "[User 2023-02-06 19:02:29] 🚀 🧪 \n",
      "[User 2023-02-06 19:02:29] 🚀 +----- End run_test(), elapsed = 2.02 sec -----------------------------------+\n",
      "[User 2023-02-06 19:02:29] 🚀 \n",
      "[User 2023-02-06 19:02:29] +----- End run_deploy(), elapsed = 3.03 sec -----------------------------------+\n"
     ]
    }
   ],
   "source": [
    "@logger.pretty_log(pipe=\"🏭\")\n",
    "def run_build():\n",
    "    time.sleep(1)\n",
    "    logger.info(\"run build\")\n",
    "\n",
    "@logger.pretty_log(pipe=\"🧪\")\n",
    "def run_test():\n",
    "    time.sleep(1)\n",
    "    logger.info(\"run test\")\n",
    "    with logger.nested():\n",
    "        run_build()\n",
    "\n",
    "@logger.pretty_log(pipe=\"🚀\")\n",
    "def run_deploy():\n",
    "    time.sleep(1)\n",
    "    logger.info(\"run deploy\")\n",
    "    with logger.nested():\n",
    "        run_test()\n",
    "\n",
    "run_deploy()"
   ]
  },
  {
   "cell_type": "code",
   "execution_count": 2,
   "metadata": {
    "collapsed": false,
    "jupyter": {
     "outputs_hidden": false
    },
    "pycharm": {
     "name": "#%%\n"
    }
   },
   "outputs": [
    {
     "name": "stdout",
     "output_type": "stream",
     "text": [
      "[User 2023-02-25 11:02:52] +----- ⏱ 🟢 Start 'My Function 1' ----------------------------------------------+\n",
      "[User 2023-02-25 11:02:52] 📦 \n",
      "[User 2023-02-25 11:02:53] 📦 alice do something in my func 1\n",
      "[User 2023-02-25 11:02:53] 📦 \n",
      "[User 2023-02-25 11:02:53] +----- ⏰ 🔴 End 'My Function 1', elapsed = 1.01 sec ----------------------------+\n"
     ]
    }
   ],
   "source": [
    "@logger.start_and_end(\n",
    "    msg=\"My Function 1\",\n",
    "    start_emoji=\"🟢\",\n",
    "    end_emoji=\"🔴\",\n",
    "    pipe=\"📦\",\n",
    ")\n",
    "def my_func1(name: str):\n",
    "    time.sleep(1)\n",
    "    logger.info(f\"{name} do something in my func 1\")\n",
    "\n",
    "my_func1(name=\"alice\")"
   ]
  },
  {
   "cell_type": "code",
   "execution_count": null,
   "outputs": [],
   "source": [
    "@logger.emoji_block(\n",
    "    msg=\"Deploy app {app_name}\",\n",
    "    emoji=\"🚀\",\n",
    ")\n",
    "def deploy_app(app_name: str):\n",
    "    logger.info(\"working ...\")\n",
    "    logger.info(\"done\")\n",
    "\n",
    "deploy_app(app_name=\"my_app\")"
   ],
   "metadata": {
    "collapsed": false,
    "pycharm": {
     "name": "#%%\n"
    }
   }
  },
  {
   "cell_type": "code",
   "execution_count": null,
   "outputs": [],
   "source": [],
   "metadata": {
    "collapsed": false,
    "pycharm": {
     "name": "#%%\n"
    }
   }
  },
  {
   "cell_type": "code",
   "execution_count": null,
   "metadata": {},
   "outputs": [],
   "source": []
  }
 ],
 "metadata": {
  "kernelspec": {
   "display_name": "Python 3 (ipykernel)",
   "language": "python",
   "name": "python3"
  },
  "language_info": {
   "codemirror_mode": {
    "name": "ipython",
    "version": 3
   },
   "file_extension": ".py",
   "mimetype": "text/x-python",
   "name": "python",
   "nbconvert_exporter": "python",
   "pygments_lexer": "ipython3",
   "version": "3.10.10"
  }
 },
 "nbformat": 4,
 "nbformat_minor": 4
}