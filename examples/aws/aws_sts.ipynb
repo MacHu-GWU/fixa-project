{
 "cells": [
  {
   "cell_type": "markdown",
   "metadata": {
    "collapsed": false
   },
   "source": [
    "# S3 based progress tracker\n",
    "\n",
    "A simple tracker that can be used to track the progress of a long process. For example, you are trying to download data from 2000-01-01 to 2020-01-01, and you split them into 20 years chunks, and you download them one by one. You can use tracker to track the last succeeded year."
   ]
  },
  {
   "cell_type": "code",
   "execution_count": 10,
   "metadata": {
    "ExecuteTime": {
     "end_time": "2023-09-10T14:53:11.418058Z",
     "start_time": "2023-09-10T14:53:11.415671Z"
    },
    "collapsed": false
   },
   "outputs": [],
   "source": [
    "import json\n",
    "import dataclasses\n",
    "from boto_session_manager import BotoSesManager\n",
    "\n",
    "from fixa.aws.aws_s3_tracker import BaseTracker, Backend"
   ]
  },
  {
   "cell_type": "code",
   "execution_count": 3,
   "metadata": {
    "ExecuteTime": {
     "end_time": "2023-09-10T14:51:09.269723Z",
     "start_time": "2023-09-10T14:51:09.093197Z"
    },
    "collapsed": false
   },
   "outputs": [],
   "source": [
    "# BaseTracker is a dataclasses, you have to use dataclasses.dataclass decorator here\n",
    "@dataclasses.dataclass\n",
    "class Tracker(BaseTracker):\n",
    "    year: int = dataclasses.field()\n",
    "\n",
    "    @classmethod\n",
    "    def default(cls):\n",
    "        return cls(year=2000)\n",
    "\n",
    "    def to_json(self) -> str:\n",
    "        return json.dumps(dataclasses.asdict(self))\n",
    "\n",
    "    @classmethod\n",
    "    def from_json(cls, json_str: str):\n",
    "        return cls(**json.loads(json_str))\n",
    "\n",
    "bsm = BotoSesManager(profile_name=\"awshsh_app_dev_us_east_1\", region_name=\"us-east-1\")\n",
    "bucket = f\"{bsm.aws_account_id}-{bsm.aws_region}-data\"\n",
    "s3_client = bsm.s3_client\n",
    "\n",
    "backend = Backend(bucket=bucket, key=\"projects/aws_s3_tracker/tracker.json\", tracker_class=Tracker)"
   ]
  },
  {
   "cell_type": "code",
   "execution_count": 6,
   "metadata": {
    "ExecuteTime": {
     "end_time": "2023-09-10T14:51:48.151836Z",
     "start_time": "2023-09-10T14:51:48.049493Z"
    },
    "collapsed": false
   },
   "outputs": [
    {
     "data": {
      "text/plain": [
       "Tracker(year=2000)"
      ]
     },
     "execution_count": 6,
     "metadata": {},
     "output_type": "execute_result"
    }
   ],
   "source": [
    "# read tracker, if the tracker does not exist, it will create a default one\n",
    "tracker = backend.read(s3_client)\n",
    "tracker"
   ]
  },
  {
   "cell_type": "code",
   "execution_count": 9,
   "metadata": {
    "ExecuteTime": {
     "end_time": "2023-09-10T14:52:27.286372Z",
     "start_time": "2023-09-10T14:52:27.121328Z"
    },
    "collapsed": false
   },
   "outputs": [
    {
     "data": {
      "text/plain": [
       "Tracker(year=2001)"
      ]
     },
     "execution_count": 9,
     "metadata": {},
     "output_type": "execute_result"
    }
   ],
   "source": [
    "# update tracker and write it back to S3\n",
    "tracker.year = 2001\n",
    "backend.write(s3_client, tracker)\n",
    "\n",
    "# read tracker again, you will get the updated one\n",
    "tracker = backend.read(s3_client)\n",
    "tracker"
   ]
  },
  {
   "cell_type": "code",
   "execution_count": null,
   "metadata": {
    "collapsed": false
   },
   "outputs": [],
   "source": []
  }
 ],
 "metadata": {
  "kernelspec": {
   "display_name": "Python 3",
   "language": "python",
   "name": "python3"
  },
  "language_info": {
   "codemirror_mode": {
    "name": "ipython",
    "version": 2
   },
   "file_extension": ".py",
   "mimetype": "text/x-python",
   "name": "python",
   "nbconvert_exporter": "python",
   "pygments_lexer": "ipython2",
   "version": "2.7.6"
  }
 },
 "nbformat": 4,
 "nbformat_minor": 0
}
