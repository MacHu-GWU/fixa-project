{
 "cells": [
  {
   "cell_type": "markdown",
   "source": [
    "# S3 based distributive lock implementation\n",
    "\n",
    "It is a S3 based distributive lock implementation.\n",
    "\n",
    "For example, we have many workers working on the same task, but we want to ensure that only one worker can work on this task at one time. Worker should create an S3 object to claim the ownership of the lock before doing the task. If the lock is already exists, then don't do any task. When the owner of the lock finishes the task, then release the lock by update the content of the S3 object."
   ],
   "metadata": {
    "collapsed": false
   }
  },
  {
   "cell_type": "code",
   "execution_count": 1,
   "outputs": [],
   "source": [
    "from boto_session_manager import BotoSesManager\n",
    "from fixa.aws.aws_s3_lock import Lock, Vault, get_utc_now, AlreadyLockedError"
   ],
   "metadata": {
    "collapsed": false,
    "ExecuteTime": {
     "start_time": "2023-09-10T14:37:12.618053Z",
     "end_time": "2023-09-10T14:37:12.677390Z"
    }
   }
  },
  {
   "cell_type": "code",
   "execution_count": 2,
   "outputs": [],
   "source": [
    "bsm = BotoSesManager(profile_name=\"awshsh_app_dev_us_east_1\", region_name=\"us-east-1\")\n",
    "bucket = f\"{bsm.aws_account_id}-{bsm.aws_region}-data\"\n",
    "s3_client = bsm.s3_client"
   ],
   "metadata": {
    "collapsed": false,
    "ExecuteTime": {
     "start_time": "2023-09-10T14:37:13.737093Z",
     "end_time": "2023-09-10T14:37:13.946685Z"
    }
   }
  },
  {
   "cell_type": "code",
   "execution_count": 5,
   "outputs": [],
   "source": [
    "# define a vault backend\n",
    "vault = Vault(\n",
    "    bucket=bucket,\n",
    "    key=\"projects/aws_s3_lock/my-task.json\",\n",
    "    expire=900, # how long we automatically release a dead lock\n",
    "    wait=1.0, # the higher the value, the more reliable of this mechanism but we need to wait longer before doing any task\n",
    ")"
   ],
   "metadata": {
    "collapsed": false,
    "ExecuteTime": {
     "start_time": "2023-09-10T14:37:41.038358Z",
     "end_time": "2023-09-10T14:37:41.039743Z"
    }
   }
  },
  {
   "cell_type": "code",
   "execution_count": 9,
   "outputs": [
    {
     "data": {
      "text/plain": "Lock(expire=900, lock_time='2023-09-10T18:39:06.066075+00:00', release_time=None, owner='alice')"
     },
     "execution_count": 9,
     "metadata": {},
     "output_type": "execute_result"
    }
   ],
   "source": [
    "# acquire the lock before doing any task\n",
    "lock = vault.acquire(s3_client, owner=\"alice\")\n",
    "lock"
   ],
   "metadata": {
    "collapsed": false,
    "ExecuteTime": {
     "start_time": "2023-09-10T14:39:06.044608Z",
     "end_time": "2023-09-10T14:39:07.144832Z"
    }
   }
  },
  {
   "cell_type": "code",
   "execution_count": 10,
   "outputs": [
    {
     "ename": "AlreadyLockedError",
     "evalue": "Lock is already acquired by Lock(expire=900, lock_time='2023-09-10T18:39:06.066075+00:00', release_time=None, owner='alice')",
     "output_type": "error",
     "traceback": [
      "\u001B[0;31m---------------------------------------------------------------------------\u001B[0m",
      "\u001B[0;31mAlreadyLockedError\u001B[0m                        Traceback (most recent call last)",
      "Cell \u001B[0;32mIn[10], line 2\u001B[0m\n\u001B[1;32m      1\u001B[0m \u001B[38;5;66;03m# this will fail because the lock is already owned by alice\u001B[39;00m\n\u001B[0;32m----> 2\u001B[0m bob_lock \u001B[38;5;241m=\u001B[39m \u001B[43mvault\u001B[49m\u001B[38;5;241;43m.\u001B[39;49m\u001B[43macquire\u001B[49m\u001B[43m(\u001B[49m\u001B[43ms3_client\u001B[49m\u001B[43m,\u001B[49m\u001B[43m \u001B[49m\u001B[43mowner\u001B[49m\u001B[38;5;241;43m=\u001B[39;49m\u001B[38;5;124;43m\"\u001B[39;49m\u001B[38;5;124;43mbob\u001B[39;49m\u001B[38;5;124;43m\"\u001B[39;49m\u001B[43m)\u001B[49m\n",
      "File \u001B[0;32m~/Documents/GitHub/fixa-project/fixa/aws/aws_s3_lock.py:162\u001B[0m, in \u001B[0;36mVault.acquire\u001B[0;34m(self, s3_client, owner)\u001B[0m\n\u001B[1;32m    160\u001B[0m utc_now \u001B[38;5;241m=\u001B[39m get_utc_now()\n\u001B[1;32m    161\u001B[0m \u001B[38;5;28;01mif\u001B[39;00m lock\u001B[38;5;241m.\u001B[39mis_locked(utc_now\u001B[38;5;241m=\u001B[39mutc_now, expect_owner\u001B[38;5;241m=\u001B[39mowner):\n\u001B[0;32m--> 162\u001B[0m     \u001B[38;5;28;01mraise\u001B[39;00m AlreadyLockedError(\u001B[38;5;124mf\u001B[39m\u001B[38;5;124m\"\u001B[39m\u001B[38;5;124mLock is already acquired by \u001B[39m\u001B[38;5;132;01m{\u001B[39;00mlock\u001B[38;5;132;01m}\u001B[39;00m\u001B[38;5;124m\"\u001B[39m)\n\u001B[1;32m    164\u001B[0m lock\u001B[38;5;241m.\u001B[39mexpire \u001B[38;5;241m=\u001B[39m \u001B[38;5;28mself\u001B[39m\u001B[38;5;241m.\u001B[39mexpire\n\u001B[1;32m    165\u001B[0m lock\u001B[38;5;241m.\u001B[39mlock_time \u001B[38;5;241m=\u001B[39m utc_now\u001B[38;5;241m.\u001B[39misoformat()\n",
      "\u001B[0;31mAlreadyLockedError\u001B[0m: Lock is already acquired by Lock(expire=900, lock_time='2023-09-10T18:39:06.066075+00:00', release_time=None, owner='alice')"
     ]
    }
   ],
   "source": [
    "# this will fail because the lock is already owned by alice\n",
    "bob_lock = vault.acquire(s3_client, owner=\"bob\")"
   ],
   "metadata": {
    "collapsed": false
   }
  },
  {
   "cell_type": "code",
   "execution_count": 11,
   "outputs": [
    {
     "data": {
      "text/plain": "Lock(expire=900, lock_time='2023-09-10T18:39:26.197306+00:00', release_time=None, owner='alice')"
     },
     "execution_count": 11,
     "metadata": {},
     "output_type": "execute_result"
    }
   ],
   "source": [
    "# alice can still acquire the lock\n",
    "alice_lock = vault.acquire(s3_client, owner=\"alice\")\n",
    "alice_lock"
   ],
   "metadata": {
    "collapsed": false,
    "ExecuteTime": {
     "start_time": "2023-09-10T14:39:26.075402Z",
     "end_time": "2023-09-10T14:39:27.283454Z"
    }
   }
  },
  {
   "cell_type": "code",
   "execution_count": 12,
   "outputs": [
    {
     "data": {
      "text/plain": "Lock(expire=900, lock_time='2023-09-10T18:39:06.066075+00:00', release_time='2023-09-10T18:39:52.458908+00:00', owner=None)"
     },
     "execution_count": 12,
     "metadata": {},
     "output_type": "execute_result"
    }
   ],
   "source": [
    "# alice do some task\n",
    "...\n",
    "\n",
    "# alice release the lock after the task is done\n",
    "vault.release(s3_client, lock)"
   ],
   "metadata": {
    "collapsed": false,
    "ExecuteTime": {
     "start_time": "2023-09-10T14:39:52.461766Z",
     "end_time": "2023-09-10T14:39:52.597123Z"
    }
   }
  },
  {
   "cell_type": "code",
   "execution_count": 13,
   "outputs": [
    {
     "data": {
      "text/plain": "Lock(expire=900, lock_time='2023-09-10T18:40:09.953411+00:00', release_time=None, owner='bob')"
     },
     "execution_count": 13,
     "metadata": {},
     "output_type": "execute_result"
    }
   ],
   "source": [
    "# now bob can acquire the lock\n",
    "lock = vault.acquire(s3_client, owner=\"bob\")\n",
    "lock"
   ],
   "metadata": {
    "collapsed": false,
    "ExecuteTime": {
     "start_time": "2023-09-10T14:40:09.852903Z",
     "end_time": "2023-09-10T14:40:11.037015Z"
    }
   }
  }
 ],
 "metadata": {
  "kernelspec": {
   "display_name": "Python 3",
   "language": "python",
   "name": "python3"
  },
  "language_info": {
   "codemirror_mode": {
    "name": "ipython",
    "version": 2
   },
   "file_extension": ".py",
   "mimetype": "text/x-python",
   "name": "python",
   "nbconvert_exporter": "python",
   "pygments_lexer": "ipython2",
   "version": "2.7.6"
  }
 },
 "nbformat": 4,
 "nbformat_minor": 0
}
